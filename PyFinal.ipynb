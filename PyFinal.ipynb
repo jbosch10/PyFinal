{
 "cells": [
  {
   "cell_type": "code",
   "execution_count": 1,
   "metadata": {},
   "outputs": [],
   "source": [
    "#allow output from every line\n",
    "from IPython.core.interactiveshell import InteractiveShell\n",
    "InteractiveShell.ast_node_interactivity = \"all\"\n",
    "\n",
    "import pandas as pd\n",
    "import numpy as np\n",
    "\n",
    "import matplotlib.pyplot as plt \n",
    "%matplotlib notebook\n",
    "\n",
    "import seaborn as sns\n",
    "\n",
    "import statsmodels.api as sm\n",
    "import statsmodels.formula.api as smf\n",
    "\n",
    "from urllib.request import urlopen\n",
    "from bs4 import BeautifulSoup\n",
    "\n",
    "pd.set_option('display.max_columns', None)\n",
    "pd.set_option(\"max_rows\", None)"
   ]
  },
  {
   "cell_type": "code",
   "execution_count": 2,
   "metadata": {},
   "outputs": [],
   "source": [
    "ids = pd.read_csv(\"nba_player_ids.csv\")\n",
    "player_list = ids[\"Player\"]\n",
    "player_stats = ['PTS','TRB','AST','STL','ORB','3P','FT','DRB']"
   ]
  },
  {
   "cell_type": "code",
   "execution_count": 3,
   "metadata": {},
   "outputs": [
    {
     "data": {
      "text/plain": [
       "''"
      ]
     },
     "execution_count": 3,
     "metadata": {},
     "output_type": "execute_result"
    },
    {
     "name": "stdout",
     "output_type": "stream",
     "text": [
      "Aron Baynes\n"
     ]
    }
   ],
   "source": [
    "# Player Name Dropdown\n",
    "\n",
    "from tkinter import *\n",
    "root = Tk()\n",
    "root.title(\"Dropdown\")\n",
    "\n",
    "var = StringVar(root)\n",
    "var.set(\"James Harden\")\n",
    "\n",
    "def grab_and_assign(event):\n",
    "    chosen_option = var.get()\n",
    "    label_chosen_variable= Label(root, text=chosen_option)\n",
    "    label_chosen_variable.grid(row=1, column=2)\n",
    "    print(chosen_option)\n",
    "\n",
    "drop_menu = OptionMenu(root, var, *player_list, command=grab_and_assign)\n",
    "drop_menu.grid(row=0, column=0)\n",
    "\n",
    "label_left=Label(root, text=\"Selected Player: \")\n",
    "label_left.grid(row=1, column=0)\n",
    "\n",
    "\n",
    "root.mainloop()\n",
    "\n",
    "selected_player = var.get()"
   ]
  },
  {
   "cell_type": "code",
   "execution_count": 4,
   "metadata": {},
   "outputs": [
    {
     "data": {
      "text/plain": [
       "''"
      ]
     },
     "execution_count": 4,
     "metadata": {},
     "output_type": "execute_result"
    },
    {
     "name": "stdout",
     "output_type": "stream",
     "text": [
      "TRB\n"
     ]
    }
   ],
   "source": [
    "# Player Statistic Dropdown\n",
    "\n",
    "from tkinter import *\n",
    "root = Tk()\n",
    "root.title(\"Dropdown\")\n",
    "\n",
    "var = StringVar(root)\n",
    "var.set(\"PTS\")\n",
    "\n",
    "def grab_and_assign(event):\n",
    "    chosen_stat = var.get()\n",
    "    label_chosen_variable= Label(root, text=chosen_stat)\n",
    "    label_chosen_variable.grid(row=1, column=2)\n",
    "    print(chosen_stat)\n",
    "\n",
    "\n",
    "drop_menu = OptionMenu(root, var, *player_stats, command=grab_and_assign)\n",
    "drop_menu.grid(row=0, column=0)\n",
    "\n",
    "label_left=Label(root, text=\"Selected Statistic: \")\n",
    "label_left.grid(row=1, column=0)\n",
    "\n",
    "\n",
    "root.mainloop()\n",
    "\n",
    "selected_stat = var.get()"
   ]
  },
  {
   "cell_type": "code",
   "execution_count": 5,
   "metadata": {},
   "outputs": [
    {
     "name": "stdout",
     "output_type": "stream",
     "text": [
      "Enter the amount of past games you want to see: 8\n"
     ]
    }
   ],
   "source": [
    "# Input Amount of Games\n",
    "games = input(\"Enter the amount of past games you want to see: \")\n",
    "games = int(games)"
   ]
  },
  {
   "cell_type": "code",
   "execution_count": 6,
   "metadata": {},
   "outputs": [],
   "source": [
    "# Find ID\n",
    "id_row = ids.loc[(ids['Player'] == selected_player)]\n",
    "player_id = id_row['ID'].to_list()\n",
    "player_id = player_id[0]"
   ]
  },
  {
   "cell_type": "code",
   "execution_count": 7,
   "metadata": {},
   "outputs": [
    {
     "data": {
      "text/plain": [
       "'baynear01'"
      ]
     },
     "execution_count": 7,
     "metadata": {},
     "output_type": "execute_result"
    },
    {
     "data": {
      "text/plain": [
       "'TRB'"
      ]
     },
     "execution_count": 7,
     "metadata": {},
     "output_type": "execute_result"
    },
    {
     "data": {
      "text/plain": [
       "8"
      ]
     },
     "execution_count": 7,
     "metadata": {},
     "output_type": "execute_result"
    }
   ],
   "source": [
    "player_id\n",
    "selected_stat\n",
    "games"
   ]
  },
  {
   "cell_type": "code",
   "execution_count": 8,
   "metadata": {},
   "outputs": [
    {
     "name": "stdout",
     "output_type": "stream",
     "text": [
      "https://www.basketball-reference.com/players/b/baynear01/gamelog/2020\n"
     ]
    },
    {
     "data": {
      "text/html": [
       "<div>\n",
       "<style scoped>\n",
       "    .dataframe tbody tr th:only-of-type {\n",
       "        vertical-align: middle;\n",
       "    }\n",
       "\n",
       "    .dataframe tbody tr th {\n",
       "        vertical-align: top;\n",
       "    }\n",
       "\n",
       "    .dataframe thead th {\n",
       "        text-align: right;\n",
       "    }\n",
       "</style>\n",
       "<table border=\"1\" class=\"dataframe\">\n",
       "  <thead>\n",
       "    <tr style=\"text-align: right;\">\n",
       "      <th></th>\n",
       "      <th>Rk</th>\n",
       "      <th>G</th>\n",
       "      <th>Date</th>\n",
       "      <th>Age</th>\n",
       "      <th>Tm</th>\n",
       "      <th>Unnamed: 5</th>\n",
       "      <th>Opp</th>\n",
       "      <th>Unnamed: 7</th>\n",
       "      <th>GS</th>\n",
       "      <th>MP</th>\n",
       "      <th>FG</th>\n",
       "      <th>FGA</th>\n",
       "      <th>FG%</th>\n",
       "      <th>3P</th>\n",
       "      <th>3PA</th>\n",
       "      <th>3P%</th>\n",
       "      <th>FT</th>\n",
       "      <th>FTA</th>\n",
       "      <th>FT%</th>\n",
       "      <th>ORB</th>\n",
       "      <th>DRB</th>\n",
       "      <th>TRB</th>\n",
       "      <th>AST</th>\n",
       "      <th>STL</th>\n",
       "      <th>BLK</th>\n",
       "      <th>TOV</th>\n",
       "      <th>PF</th>\n",
       "      <th>PTS</th>\n",
       "      <th>GmSc</th>\n",
       "      <th>+/-</th>\n",
       "    </tr>\n",
       "  </thead>\n",
       "  <tbody>\n",
       "    <tr>\n",
       "      <td>58</td>\n",
       "      <td>57</td>\n",
       "      <td>35</td>\n",
       "      <td>2020-02-22</td>\n",
       "      <td>33-075</td>\n",
       "      <td>PHO</td>\n",
       "      <td>@</td>\n",
       "      <td>CHI</td>\n",
       "      <td>W (+8)</td>\n",
       "      <td>0</td>\n",
       "      <td>12:38</td>\n",
       "      <td>2</td>\n",
       "      <td>3</td>\n",
       "      <td>.667</td>\n",
       "      <td>0</td>\n",
       "      <td>1</td>\n",
       "      <td>.000</td>\n",
       "      <td>0</td>\n",
       "      <td>0</td>\n",
       "      <td>NaN</td>\n",
       "      <td>0</td>\n",
       "      <td>0</td>\n",
       "      <td>0</td>\n",
       "      <td>0</td>\n",
       "      <td>1</td>\n",
       "      <td>0</td>\n",
       "      <td>1</td>\n",
       "      <td>4</td>\n",
       "      <td>4</td>\n",
       "      <td>1.1</td>\n",
       "      <td>-13</td>\n",
       "    </tr>\n",
       "    <tr>\n",
       "      <td>59</td>\n",
       "      <td>58</td>\n",
       "      <td>36</td>\n",
       "      <td>2020-02-24</td>\n",
       "      <td>33-077</td>\n",
       "      <td>PHO</td>\n",
       "      <td>@</td>\n",
       "      <td>UTA</td>\n",
       "      <td>W (+20)</td>\n",
       "      <td>0</td>\n",
       "      <td>16:21</td>\n",
       "      <td>4</td>\n",
       "      <td>10</td>\n",
       "      <td>.400</td>\n",
       "      <td>1</td>\n",
       "      <td>2</td>\n",
       "      <td>.500</td>\n",
       "      <td>0</td>\n",
       "      <td>0</td>\n",
       "      <td>NaN</td>\n",
       "      <td>6</td>\n",
       "      <td>2</td>\n",
       "      <td>8</td>\n",
       "      <td>1</td>\n",
       "      <td>0</td>\n",
       "      <td>0</td>\n",
       "      <td>0</td>\n",
       "      <td>2</td>\n",
       "      <td>9</td>\n",
       "      <td>8.3</td>\n",
       "      <td>+1</td>\n",
       "    </tr>\n",
       "    <tr>\n",
       "      <td>60</td>\n",
       "      <td>59</td>\n",
       "      <td>37</td>\n",
       "      <td>2020-02-26</td>\n",
       "      <td>33-079</td>\n",
       "      <td>PHO</td>\n",
       "      <td>NaN</td>\n",
       "      <td>LAC</td>\n",
       "      <td>L (-10)</td>\n",
       "      <td>0</td>\n",
       "      <td>11:43</td>\n",
       "      <td>2</td>\n",
       "      <td>6</td>\n",
       "      <td>.333</td>\n",
       "      <td>0</td>\n",
       "      <td>2</td>\n",
       "      <td>.000</td>\n",
       "      <td>0</td>\n",
       "      <td>0</td>\n",
       "      <td>NaN</td>\n",
       "      <td>0</td>\n",
       "      <td>5</td>\n",
       "      <td>5</td>\n",
       "      <td>0</td>\n",
       "      <td>0</td>\n",
       "      <td>0</td>\n",
       "      <td>0</td>\n",
       "      <td>1</td>\n",
       "      <td>4</td>\n",
       "      <td>1.7</td>\n",
       "      <td>+1</td>\n",
       "    </tr>\n",
       "    <tr>\n",
       "      <td>61</td>\n",
       "      <td>60</td>\n",
       "      <td>38</td>\n",
       "      <td>2020-02-28</td>\n",
       "      <td>33-081</td>\n",
       "      <td>PHO</td>\n",
       "      <td>NaN</td>\n",
       "      <td>DET</td>\n",
       "      <td>L (-2)</td>\n",
       "      <td>0</td>\n",
       "      <td>12:35</td>\n",
       "      <td>2</td>\n",
       "      <td>4</td>\n",
       "      <td>.500</td>\n",
       "      <td>0</td>\n",
       "      <td>2</td>\n",
       "      <td>.000</td>\n",
       "      <td>3</td>\n",
       "      <td>4</td>\n",
       "      <td>.750</td>\n",
       "      <td>0</td>\n",
       "      <td>4</td>\n",
       "      <td>4</td>\n",
       "      <td>0</td>\n",
       "      <td>0</td>\n",
       "      <td>0</td>\n",
       "      <td>1</td>\n",
       "      <td>1</td>\n",
       "      <td>7</td>\n",
       "      <td>4.4</td>\n",
       "      <td>-7</td>\n",
       "    </tr>\n",
       "    <tr>\n",
       "      <td>63</td>\n",
       "      <td>61</td>\n",
       "      <td>39</td>\n",
       "      <td>2020-02-29</td>\n",
       "      <td>33-082</td>\n",
       "      <td>PHO</td>\n",
       "      <td>NaN</td>\n",
       "      <td>GSW</td>\n",
       "      <td>L (-16)</td>\n",
       "      <td>0</td>\n",
       "      <td>10:42</td>\n",
       "      <td>2</td>\n",
       "      <td>4</td>\n",
       "      <td>.500</td>\n",
       "      <td>1</td>\n",
       "      <td>1</td>\n",
       "      <td>1.000</td>\n",
       "      <td>1</td>\n",
       "      <td>1</td>\n",
       "      <td>1.000</td>\n",
       "      <td>2</td>\n",
       "      <td>2</td>\n",
       "      <td>4</td>\n",
       "      <td>0</td>\n",
       "      <td>0</td>\n",
       "      <td>0</td>\n",
       "      <td>2</td>\n",
       "      <td>3</td>\n",
       "      <td>6</td>\n",
       "      <td>2.8</td>\n",
       "      <td>+2</td>\n",
       "    </tr>\n",
       "    <tr>\n",
       "      <td>65</td>\n",
       "      <td>63</td>\n",
       "      <td>40</td>\n",
       "      <td>2020-03-06</td>\n",
       "      <td>33-088</td>\n",
       "      <td>PHO</td>\n",
       "      <td>NaN</td>\n",
       "      <td>POR</td>\n",
       "      <td>W (+10)</td>\n",
       "      <td>1</td>\n",
       "      <td>36:19</td>\n",
       "      <td>12</td>\n",
       "      <td>23</td>\n",
       "      <td>.522</td>\n",
       "      <td>9</td>\n",
       "      <td>14</td>\n",
       "      <td>.643</td>\n",
       "      <td>4</td>\n",
       "      <td>4</td>\n",
       "      <td>1.000</td>\n",
       "      <td>6</td>\n",
       "      <td>10</td>\n",
       "      <td>16</td>\n",
       "      <td>1</td>\n",
       "      <td>1</td>\n",
       "      <td>2</td>\n",
       "      <td>2</td>\n",
       "      <td>4</td>\n",
       "      <td>37</td>\n",
       "      <td>32.4</td>\n",
       "      <td>+17</td>\n",
       "    </tr>\n",
       "    <tr>\n",
       "      <td>66</td>\n",
       "      <td>64</td>\n",
       "      <td>41</td>\n",
       "      <td>2020-03-08</td>\n",
       "      <td>33-090</td>\n",
       "      <td>PHO</td>\n",
       "      <td>NaN</td>\n",
       "      <td>MIL</td>\n",
       "      <td>W (+9)</td>\n",
       "      <td>1</td>\n",
       "      <td>33:26</td>\n",
       "      <td>8</td>\n",
       "      <td>16</td>\n",
       "      <td>.500</td>\n",
       "      <td>4</td>\n",
       "      <td>11</td>\n",
       "      <td>.364</td>\n",
       "      <td>4</td>\n",
       "      <td>5</td>\n",
       "      <td>.800</td>\n",
       "      <td>2</td>\n",
       "      <td>5</td>\n",
       "      <td>7</td>\n",
       "      <td>1</td>\n",
       "      <td>0</td>\n",
       "      <td>1</td>\n",
       "      <td>2</td>\n",
       "      <td>4</td>\n",
       "      <td>24</td>\n",
       "      <td>16.3</td>\n",
       "      <td>+13</td>\n",
       "    </tr>\n",
       "    <tr>\n",
       "      <td>67</td>\n",
       "      <td>65</td>\n",
       "      <td>42</td>\n",
       "      <td>2020-03-10</td>\n",
       "      <td>33-092</td>\n",
       "      <td>PHO</td>\n",
       "      <td>@</td>\n",
       "      <td>POR</td>\n",
       "      <td>L (-16)</td>\n",
       "      <td>1</td>\n",
       "      <td>33:50</td>\n",
       "      <td>3</td>\n",
       "      <td>14</td>\n",
       "      <td>.214</td>\n",
       "      <td>1</td>\n",
       "      <td>7</td>\n",
       "      <td>.143</td>\n",
       "      <td>0</td>\n",
       "      <td>0</td>\n",
       "      <td>NaN</td>\n",
       "      <td>1</td>\n",
       "      <td>1</td>\n",
       "      <td>2</td>\n",
       "      <td>1</td>\n",
       "      <td>1</td>\n",
       "      <td>0</td>\n",
       "      <td>2</td>\n",
       "      <td>2</td>\n",
       "      <td>7</td>\n",
       "      <td>-1.7</td>\n",
       "      <td>-15</td>\n",
       "    </tr>\n",
       "  </tbody>\n",
       "</table>\n",
       "</div>"
      ],
      "text/plain": [
       "    Rk   G        Date     Age   Tm Unnamed: 5  Opp Unnamed: 7 GS     MP  FG  \\\n",
       "58  57  35  2020-02-22  33-075  PHO          @  CHI     W (+8)  0  12:38   2   \n",
       "59  58  36  2020-02-24  33-077  PHO          @  UTA    W (+20)  0  16:21   4   \n",
       "60  59  37  2020-02-26  33-079  PHO        NaN  LAC    L (-10)  0  11:43   2   \n",
       "61  60  38  2020-02-28  33-081  PHO        NaN  DET     L (-2)  0  12:35   2   \n",
       "63  61  39  2020-02-29  33-082  PHO        NaN  GSW    L (-16)  0  10:42   2   \n",
       "65  63  40  2020-03-06  33-088  PHO        NaN  POR    W (+10)  1  36:19  12   \n",
       "66  64  41  2020-03-08  33-090  PHO        NaN  MIL     W (+9)  1  33:26   8   \n",
       "67  65  42  2020-03-10  33-092  PHO          @  POR    L (-16)  1  33:50   3   \n",
       "\n",
       "   FGA   FG% 3P 3PA    3P% FT FTA    FT% ORB DRB TRB AST STL BLK TOV PF PTS  \\\n",
       "58   3  .667  0   1   .000  0   0    NaN   0   0   0   0   1   0   1  4   4   \n",
       "59  10  .400  1   2   .500  0   0    NaN   6   2   8   1   0   0   0  2   9   \n",
       "60   6  .333  0   2   .000  0   0    NaN   0   5   5   0   0   0   0  1   4   \n",
       "61   4  .500  0   2   .000  3   4   .750   0   4   4   0   0   0   1  1   7   \n",
       "63   4  .500  1   1  1.000  1   1  1.000   2   2   4   0   0   0   2  3   6   \n",
       "65  23  .522  9  14   .643  4   4  1.000   6  10  16   1   1   2   2  4  37   \n",
       "66  16  .500  4  11   .364  4   5   .800   2   5   7   1   0   1   2  4  24   \n",
       "67  14  .214  1   7   .143  0   0    NaN   1   1   2   1   1   0   2  2   7   \n",
       "\n",
       "    GmSc  +/-  \n",
       "58   1.1  -13  \n",
       "59   8.3   +1  \n",
       "60   1.7   +1  \n",
       "61   4.4   -7  \n",
       "63   2.8   +2  \n",
       "65  32.4  +17  \n",
       "66  16.3  +13  \n",
       "67  -1.7  -15  "
      ]
     },
     "execution_count": 8,
     "metadata": {},
     "output_type": "execute_result"
    }
   ],
   "source": [
    "# Define All Functions\n",
    "def scrape_player(player_id, games):\n",
    "    first_letter = player_id[0]\n",
    "    url = \"https://www.basketball-reference.com/players/\" + first_letter + \"/\" + player_id + \"/gamelog/2020\"\n",
    "    print(url)\n",
    "    html = urlopen(url)\n",
    "    bs = BeautifulSoup(html.read(), 'lxml')\n",
    "    tables = bs.find_all('table',{\"class\":\"row_summable\"})\n",
    "    logs_tables = pd.read_html(str(tables))\n",
    "    logs = logs_tables[0]\n",
    "    logs = logs[logs['G'].notna()]\n",
    "    logs = logs[logs['G'] != 'G']\n",
    "    logs = logs[-games:]\n",
    "    return(logs)\n",
    "\n",
    "game_log = scrape_player(player_id, games)\n",
    "\n",
    "game_log\n",
    "\n",
    "\n"
   ]
  },
  {
   "cell_type": "code",
   "execution_count": 9,
   "metadata": {},
   "outputs": [
    {
     "name": "stdout",
     "output_type": "stream",
     "text": [
      "Aron Baynes has been averaging: 5.75 total rebounds per game in his last 8 games.\n"
     ]
    },
    {
     "data": {
      "text/plain": [
       "array([ 0,  8,  5,  4,  4, 16,  7,  2])"
      ]
     },
     "execution_count": 9,
     "metadata": {},
     "output_type": "execute_result"
    }
   ],
   "source": [
    "# Stat Specific\n",
    "if selected_stat=='PTS':\n",
    "    points = game_log[\"PTS\"]\n",
    "    points = np.array(points, dtype=int)\n",
    "    average_of_stat= np.mean(points)\n",
    "    two_decimal_places = \"{:.2f}\".format(average_of_stat)\n",
    "    print(selected_player, \"has been averaging:\", two_decimal_places, \"points per game in his last\", games, \"games.\")\n",
    "    v_x_lab = \"Points Scored\"\n",
    "    v_y_lab = \"Frequency\"\n",
    "    v_title = \"Violin Plot of Points Scored\"\n",
    "    d_title = \"Distribution Plot of Points Scored\"\n",
    "    x = \"Game #\"\n",
    "    t_y_lab = \"Points\"\n",
    "    t_title = \"Trend of Points Scored per Game\"\n",
    "    \n",
    "\n",
    "elif selected_stat=='ORB':\n",
    "    points = game_log[\"ORB\"]\n",
    "    points = np.array(points, dtype=int)\n",
    "    average_of_stat= np.mean(points)\n",
    "    two_decimal_places = \"{:.2f}\".format(average_of_stat)\n",
    "    print(selected_player, \"has been averaging:\", two_decimal_places, \"offensive rebounds per game in his last\", games, \"games.\")\n",
    "    v_x_lab = \"Offensive Rebounds\"\n",
    "    v_y_lab = \"Frequency\"\n",
    "    v_title = \"Violin Plot of Offensive Rebounds\"\n",
    "    d_title = \"Distribution Plot of Offensive Rebounds\"\n",
    "    x = \"Game #\"\n",
    "    t_y_lab = \"Offensive Rebounds\"\n",
    "    t_title = \"Trend of Offensive Rebounds per Game\"\n",
    "    \n",
    "    \n",
    "elif selected_stat=='TRB':\n",
    "    points = game_log[\"TRB\"]\n",
    "    points = np.array(points, dtype=int)\n",
    "    average_of_stat= np.mean(points)\n",
    "    two_decimal_places = \"{:.2f}\".format(average_of_stat)\n",
    "    print(selected_player, \"has been averaging:\", two_decimal_places, \"total rebounds per game in his last\", games, \"games.\")\n",
    "    v_x_lab = \"Rebounds\"\n",
    "    v_y_lab = \"Frequency\"\n",
    "    v_title = \"Violin Plot of Rebounds\"\n",
    "    d_title = \"Distribution Plot of Rebounds\"\n",
    "    x = \"Game #\"\n",
    "    t_y_lab = \"Rebounds\"\n",
    "    t_title = \"Trend of Rebounds per Game\"\n",
    "    \n",
    "    \n",
    "elif selected_stat=='DRB':\n",
    "    points = game_log[\"DRB\"]\n",
    "    points = np.array(points, dtype=int)\n",
    "    average_of_stat= np.mean(points)\n",
    "    two_decimal_places = \"{:.2f}\".format(average_of_stat)\n",
    "    print(selected_player, \"has been averaging:\", two_decimal_places, \"defensive rebounds per game in his last\", games, \"games.\")\n",
    "    v_x_lab = \"Defensive Rebounds\"\n",
    "    v_y_lab = \"Frequency\"\n",
    "    v_title = \"Violin Plot of Defensive Rebounds\"\n",
    "    d_title = \"Distribution Plot of Defensive Rebounds\"\n",
    "    x = \"Game #\"\n",
    "    t_y_lab = \"Defensive Rebounds\"\n",
    "    t_title = \"Trend of Defensive Rebounds per Game\"\n",
    "    \n",
    "\n",
    "elif selected_stat=='STL':\n",
    "    points = game_log[\"STL\"]\n",
    "    points = np.array(points, dtype=int)\n",
    "    average_of_stat= np.mean(points)\n",
    "    two_decimal_places = \"{:.2f}\".format(average_of_stat)\n",
    "    print(selected_player, \"has been averaging:\", two_decimal_places, \"steals per game in his last\", games, \"games.\")\n",
    "    v_x_lab = \"Steals\"\n",
    "    v_y_lab = \"Frequency\"\n",
    "    v_title = \"Violin Plot of Steals\"\n",
    "    d_title = \"Distribution Plot of Steals\"\n",
    "    x = \"Game #\"\n",
    "    t_y_lab = \"Steals\"\n",
    "    t_title = \"Trend of Steals per Game\"\n",
    "\n",
    "    \n",
    "elif selected_stat=='AST':\n",
    "    points = game_log[\"AST\"]\n",
    "    points = np.array(points, dtype=int)\n",
    "    average_of_stat= np.mean(points)\n",
    "    two_decimal_places = \"{:.2f}\".format(average_of_stat)\n",
    "    print(selected_player, \"has been averaging:\", two_decimal_places, \"assists per game in his last\", games, \"games.\")\n",
    "    v_x_lab = \"Assists\"\n",
    "    v_y_lab = \"Frequency\"\n",
    "    v_title = \"Violin Plot of Assists\"\n",
    "    d_title = \"Distribution Plot of Assists\"\n",
    "    x = \"Game #\"\n",
    "    t_y_lab = \"Assists\"\n",
    "    t_title = \"Trend of Assists per Game\"\n",
    "    \n",
    "    \n",
    "elif selected_stat=='FT':\n",
    "    points = game_log[\"FT\"]\n",
    "    points = np.array(points, dtype=int)\n",
    "    average_of_stat= np.mean(points)\n",
    "    two_decimal_places = \"{:.2f}\".format(average_of_stat)\n",
    "    print(selected_player, \"has been averaging:\", two_decimal_places, \"free throws made per game in his last\", games, \"games.\")\n",
    "    v_x_lab = \"Free Throws Made\"\n",
    "    v_y_lab = \"Frequency\"\n",
    "    v_title = \"Violin Plot of Free Throws Made\"\n",
    "    d_title = \"Distribution Plot of Free Throws Made\"\n",
    "    x = \"Game #\"\n",
    "    t_y_lab = \"Free Throws Made\"\n",
    "    t_title = \"Trend of Free Throws Made per Game\"\n",
    "    \n",
    "    \n",
    "elif selected_stat=='3P':\n",
    "    points = game_log[\"3P\"]\n",
    "    points = np.array(points, dtype=int)\n",
    "    average_of_stat= np.mean(points)\n",
    "    two_decimal_places = \"{:.2f}\".format(average_of_stat)\n",
    "    print(selected_player, \"has been averaging:\", two_decimal_places, \"three-pointers made per game in his last\", games, \"games.\")\n",
    "    v_x_lab = \"Three-pointers Made\"\n",
    "    v_y_lab = \"Frequency\"\n",
    "    v_title = \"Violin Plot of Three-pointers Made\"\n",
    "    d_title = \"Distribution Plot of Three-pointers Made\"\n",
    "    x = \"Game #\"\n",
    "    t_y_lab = \"Three-pointers Made\"\n",
    "    t_title = \"Trend of Three-pointers Made per Game\"\n",
    "       \n",
    "points"
   ]
  },
  {
   "cell_type": "code",
   "execution_count": 10,
   "metadata": {},
   "outputs": [
    {
     "data": {
      "text/plain": [
       "[Text(0, 0.5, 'Frequency'),\n",
       " Text(0.5, 0, 'Rebounds'),\n",
       " Text(0.5, 1.0, 'Violin Plot of Rebounds')]"
      ]
     },
     "execution_count": 10,
     "metadata": {},
     "output_type": "execute_result"
    },
    {
     "data": {
      "text/plain": [
       "<matplotlib.axes._subplots.AxesSubplot at 0x803825ed48>"
      ]
     },
     "execution_count": 10,
     "metadata": {},
     "output_type": "execute_result"
    },
    {
     "data": {
      "image/png": "[encoded data removed]",
      "text/plain": [
       "<Figure size 432x288 with 1 Axes>"
      ]
     },
     "metadata": {
      "needs_background": "light"
     },
     "output_type": "display_data"
    }
   ],
   "source": [
    "# Visualizations\n",
    "violin=sns.violinplot(x=points)\n",
    "violin.set(xlabel=v_x_lab,ylabel=v_y_lab,title=v_title)\n",
    "violin"
   ]
  },
  {
   "cell_type": "code",
   "execution_count": 11,
   "metadata": {},
   "outputs": [
    {
     "data": {
      "text/plain": [
       "[Text(0, 0.5, 'Frequency'),\n",
       " Text(0.5, 0, 'Rebounds'),\n",
       " Text(0.5, 1.0, 'Distribution Plot of Rebounds')]"
      ]
     },
     "execution_count": 11,
     "metadata": {},
     "output_type": "execute_result"
    },
    {
     "data": {
      "text/plain": [
       "<matplotlib.axes._subplots.AxesSubplot at 0x8038271a08>"
      ]
     },
     "execution_count": 11,
     "metadata": {},
     "output_type": "execute_result"
    },
    {
     "data": {
      "image/png": "[encoded data removed]",
      "text/plain": [
       "<Figure size 432x288 with 1 Axes>"
      ]
     },
     "metadata": {
      "needs_background": "light"
     },
     "output_type": "display_data"
    }
   ],
   "source": [
    "# Dist Plot\n",
    "dist=sns.distplot(points)\n",
    "dist.set(xlabel=v_x_lab,ylabel=v_y_lab,title=d_title)\n",
    "dist"
   ]
  },
  {
   "cell_type": "code",
   "execution_count": 12,
   "metadata": {
    "scrolled": true
   },
   "outputs": [
    {
     "data": {
      "text/plain": [
       "[Text(0, 0.5, 'Rebounds'),\n",
       " Text(0.5, 0, 'Game #'),\n",
       " Text(0.5, 1.0, 'Trend of Rebounds per Game')]"
      ]
     },
     "execution_count": 12,
     "metadata": {},
     "output_type": "execute_result"
    },
    {
     "data": {
      "text/plain": [
       "<matplotlib.axes._subplots.AxesSubplot at 0x803861cec8>"
      ]
     },
     "execution_count": 12,
     "metadata": {},
     "output_type": "execute_result"
    },
    {
     "data": {
      "image/png": "[encoded data removed]",
      "text/plain": [
       "<Figure size 432x288 with 1 Axes>"
      ]
     },
     "metadata": {
      "needs_background": "light"
     },
     "output_type": "display_data"
    }
   ],
   "source": [
    "# Trend Plot\n",
    "game_id = []\n",
    "for i in range(1,games+1):\n",
    "    game_id.append(i)\n",
    "\n",
    "line_plot=sns.lineplot(x=game_id,y=points)\n",
    "line_plot.set(xlabel=x,ylabel=t_y_lab,title=t_title)\n",
    "line_plot"
   ]
  }
 ],
 "metadata": {
  "kernelspec": {
   "display_name": "Python 3",
   "language": "python",
   "name": "python3"
  },
  "language_info": {
   "codemirror_mode": {
    "name": "ipython",
    "version": 3
   },
   "file_extension": ".py",
   "mimetype": "text/x-python",
   "name": "python",
   "nbconvert_exporter": "python",
   "pygments_lexer": "ipython3",
   "version": "3.7.4"
  }
 },
 "nbformat": 4,
 "nbformat_minor": 2
}
